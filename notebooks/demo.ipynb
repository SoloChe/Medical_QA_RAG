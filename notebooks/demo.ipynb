{
 "cells": [
  {
   "cell_type": "code",
   "execution_count": null,
   "metadata": {},
   "outputs": [],
   "source": [
    "# Testing the fine tuned model\n",
    "import sys\n",
    "import os\n",
    "# Add the project root directory to the PYTHONPATH\n",
    "project_root = os.path.abspath(os.path.join(\"..\"))\n",
    "print(f\"Project root: {project_root}\")\n",
    "sys.path.append(project_root)\n",
    "from agents.generator import Generator\n",
    "\n",
    "model_lora = Generator(\n",
    "    base_model_name=\"mistralai/Mistral-7B-v0.1\", \n",
    "    adapter_dir=\"../saved_models/lora_finetuned/checkpoint-72000\", \n",
    "    device=\"cpu\"\n",
    ")\n",
    "\n",
    "base_model = Generator(\n",
    "    base_model_name=\"mistralai/Mistral-7B-v0.1\", \n",
    "    device=\"cpu\",\n",
    "    finetuned=False\n",
    ")"
   ]
  },
  {
   "cell_type": "code",
   "execution_count": null,
   "metadata": {},
   "outputs": [],
   "source": [
    "# prompt = \"QUESTION: What are the symptoms of Alzheimer's disease?\\nCONTEXT:\\nAlzheimer's disease is a progressive neurological disorder.\\nEarly symptoms include memory loss and confusion.\"\n",
    "prompt = \"QUESTION: What are the symptoms of Alzheimer's disease?\"\n",
    "response = model_lora.generate(prompt, temperature=0.7, max_length=200, top_p=0.95, top_k=50)\n",
    "print(response)\n",
    "\n",
    "print(\"=============================================\")\n",
    "\n",
    "response_base = base_model.generate(prompt, temperature=0.7, max_length=200, top_p=0.95, top_k=50)\n",
    "print(response_base)"
   ]
  },
  {
   "cell_type": "code",
   "execution_count": null,
   "metadata": {},
   "outputs": [],
   "source": [
    "# Testing the RAG pipeline\n",
    "from scripts.rag_pipeline import RAGPipeline\n",
    "pipeline = RAGPipeline(\n",
    "        retriever_path=\"../data/rag/rag_data.txt\",\n",
    "        context_model_name=\"mistralai/Mistral-7B-v0.1\",\n",
    "        generator_model_name=\"mistralai/Mistral-7B-v0.1\",\n",
    "        generator_model_dir=\"../saved_models/lora_finetuned/checkpoint-72000\",\n",
    "        fact_checker_model=\"all-mpnet-base-v2\",\n",
    "        summarizer_model=\"facebook/bart-large-cnn\",\n",
    "        device=\"cpu\"\n",
    ")   \n",
    "query = \"What are the symptoms of Alzheimer's disease?\"\n",
    "final_response = pipeline.run(\n",
    "        query, \n",
    "        top_k_ret=3,\n",
    "        top_k_gen=100,\n",
    "        top_p_gen=0.95,\n",
    "        max_length_gen=512\n",
    ")\n",
    "print(\"\\nFinal Response:\", final_response)"
   ]
  },
  {
   "cell_type": "code",
   "execution_count": null,
   "metadata": {},
   "outputs": [],
   "source": []
  }
 ],
 "metadata": {
  "kernelspec": {
   "display_name": "medicalQARAG",
   "language": "python",
   "name": "python3"
  },
  "language_info": {
   "codemirror_mode": {
    "name": "ipython",
    "version": 3
   },
   "file_extension": ".py",
   "mimetype": "text/x-python",
   "name": "python",
   "nbconvert_exporter": "python",
   "pygments_lexer": "ipython3",
   "version": "3.10.17"
  }
 },
 "nbformat": 4,
 "nbformat_minor": 2
}
