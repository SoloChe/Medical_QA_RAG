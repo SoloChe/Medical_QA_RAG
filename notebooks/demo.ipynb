{
 "cells": [
  {
   "cell_type": "code",
   "execution_count": 2,
   "metadata": {},
   "outputs": [
    {
     "name": "stdout",
     "output_type": "stream",
     "text": [
      "Project root: /data/amciilab/yiming/LLM/Medical_QA\n"
     ]
    },
    {
     "name": "stderr",
     "output_type": "stream",
     "text": [
      "Loading checkpoint shards: 100%|██████████| 3/3 [00:03<00:00,  1.12s/it]\n",
      "Loading checkpoint shards: 100%|██████████| 3/3 [00:02<00:00,  1.18it/s]\n"
     ]
    }
   ],
   "source": [
    "# Testing the fine tuned model\n",
    "import sys\n",
    "import os\n",
    "# Add the project root directory to the PYTHONPATH\n",
    "project_root = os.path.abspath(os.path.join(\"..\"))\n",
    "print(f\"Project root: {project_root}\")\n",
    "sys.path.append(project_root)\n",
    "from agents.generator import Generator\n",
    "\n",
    "# model_lora = Generator(\n",
    "#     base_model_name=\"mistralai/Mistral-7B-Instruct-v0.2\", \n",
    "#     adapter_dir=\"../saved_models/lora_finetuned/20250512-204039/checkpoint-1000\", \n",
    "#     device=\"cpu\"\n",
    "# )\n",
    "\n",
    "base_model = Generator(\n",
    "    base_model_name=\"mistralai/Mistral-7B-Instruct-v0.2\", \n",
    "    device=\"cpu\",\n",
    "    finetuned=False\n",
    ")"
   ]
  },
  {
   "cell_type": "code",
   "execution_count": 9,
   "metadata": {},
   "outputs": [
    {
     "name": "stderr",
     "output_type": "stream",
     "text": [
      "Setting `pad_token_id` to `eos_token_id`:2 for open-end generation.\n"
     ]
    },
    {
     "name": "stdout",
     "output_type": "stream",
     "text": [
      "=============================================\n",
      "[INST] Who are you? [INST] I am an artificial intelligence designed to assist with information and answer questions to the best of my ability. I don't have the ability to have a personality or emotions. I exist to help provide information and answer questions. How may I assist you today?\n"
     ]
    }
   ],
   "source": [
    "# prompt = \"<s>[INST] QUESTION: What are the symptoms of Alzheimer's disease? \\nAnswer: [INST]\"\n",
    "# prompt = \"What are the symptoms of Alzheimer's disease?\"\n",
    "prompt = \"<s>[INST] Who are you? [INST]\"\n",
    "# response = model_lora.generate(prompt, temperature=0.7, max_length=200, top_p=0.95, top_k=50)\n",
    "# print(response)\n",
    "\n",
    "print(\"=============================================\")\n",
    "\n",
    "response_base = base_model.generate(prompt, temperature=0.7, max_length=200, top_p=0.95, top_k=50)\n",
    "# response_base = base_model.generate(prompt, max_new_tokens=200, do_sample=False)\n",
    "print(response_base)"
   ]
  },
  {
   "cell_type": "code",
   "execution_count": 30,
   "metadata": {},
   "outputs": [
    {
     "name": "stderr",
     "output_type": "stream",
     "text": [
      "Loading checkpoint shards: 100%|██████████| 3/3 [00:04<00:00,  1.45s/it]\n",
      "Setting `pad_token_id` to `eos_token_id`:2 for open-end generation.\n"
     ]
    },
    {
     "data": {
      "text/plain": [
       "\"<s><s>[INST] What are the symptoms of diabetes? [/INST] Diabetes, specifically type 1 and type 2, can present with various symptoms. Here are some common symptoms that may indicate the presence of diabetes:\\n\\n1. Increased thirst and frequent urination: Excess sugar in the blood can cause an increased need to urinate and an increased thirst as the body tries to flush out the excess sugar through urine.\\n\\n2. Increased hunger: People with diabetes may experience increased hunger due to the body's in\""
      ]
     },
     "execution_count": 30,
     "metadata": {},
     "output_type": "execute_result"
    }
   ],
   "source": [
    "from transformers import AutoModelForCausalLM, AutoTokenizer\n",
    "# prompt = \"<s>[INST] Who are you? [/INST]\"\n",
    "# prompt = \"Who are you?\"\n",
    "prompt = \"<s>[INST] What are the symptoms of diabetes? [/INST]\"\n",
    "base_model_name=\"mistralai/Mistral-7B-Instruct-v0.2\"\n",
    "tokenizer = AutoTokenizer.from_pretrained(base_model_name, trust_remote_code=True)\n",
    "model = AutoModelForCausalLM.from_pretrained(base_model_name, trust_remote_code=True)\n",
    "inputs = tokenizer(prompt, return_tensors=\"pt\")\n",
    "output = model.generate(\n",
    "    **inputs,\n",
    "    max_new_tokens=100,\n",
    "    do_sample=False\n",
    ")\n",
    "tokenizer.decode(output[0], skip_special_tokens=False)"
   ]
  },
  {
   "cell_type": "code",
   "execution_count": 29,
   "metadata": {},
   "outputs": [
    {
     "data": {
      "text/plain": [
       "'<s> [INST] What are the symptoms of diabetes? [/INST]'"
      ]
     },
     "execution_count": 29,
     "metadata": {},
     "output_type": "execute_result"
    }
   ],
   "source": [
    "prompt = \"[INST] What are the symptoms of diabetes? [/INST]\"\n",
    "inputs = tokenizer(prompt, return_tensors=\"pt\")\n",
    "tokenizer.decode(inputs['input_ids'][0])"
   ]
  },
  {
   "cell_type": "code",
   "execution_count": null,
   "metadata": {},
   "outputs": [],
   "source": [
    "# Testing the RAG pipeline\n",
    "from scripts.rag_pipeline import RAGPipeline\n",
    "pipeline = RAGPipeline(\n",
    "        retriever_path=\"../data/rag/rag.json\",\n",
    "        retriever_index_path=\"../data/rag/pubmedqa_index.faiss\",\n",
    "        context_model_name=\"mistralai/Mistral-7B-v0.1\",\n",
    "        generator_model_name=\"mistralai/Mistral-7B-v0.1\",\n",
    "        generator_model_dir=\"../saved_models/lora_finetuned/20250512-204039/checkpoint-1000\",\n",
    "        fact_checker_model=\"all-mpnet-base-v2\",\n",
    "        summarizer_model=\"facebook/bart-large-cnn\",\n",
    "        device=\"cpu\"\n",
    ")   \n",
    "query = \"What are the symptoms of Alzheimer's disease?\"\n",
    "final_response = pipeline.run(\n",
    "        query, \n",
    "        top_k_ret=3,\n",
    "        top_k_gen=100,\n",
    "        top_p_gen=0.95,\n",
    "        max_length_gen=512\n",
    ")\n",
    "print(\"\\nFinal Response:\", final_response)"
   ]
  },
  {
   "cell_type": "code",
   "execution_count": 2,
   "metadata": {},
   "outputs": [
    {
     "name": "stdout",
     "output_type": "stream",
     "text": [
      "Extracting ../data/raw/data_clean.zip...\n",
      "Extracted to ../data/raw\n"
     ]
    }
   ],
   "source": [
    "data_zip_path=\"../data/raw/data_clean.zip\"\n",
    "extract_dir=\"../data/raw\"\n",
    "import zipfile\n",
    "def unzip_data(data_zip_path, extract_dir):\n",
    "    print(f\"Extracting {data_zip_path}...\")\n",
    "    with zipfile.ZipFile(data_zip_path, 'r') as zip_ref:\n",
    "        zip_ref.extractall(extract_dir)\n",
    "    print(f\"Extracted to {extract_dir}\")\n",
    "    \n",
    "unzip_data(data_zip_path, extract_dir)"
   ]
  },
  {
   "cell_type": "markdown",
   "metadata": {},
   "source": []
  }
 ],
 "metadata": {
  "kernelspec": {
   "display_name": "medicalQARAG",
   "language": "python",
   "name": "python3"
  },
  "language_info": {
   "codemirror_mode": {
    "name": "ipython",
    "version": 3
   },
   "file_extension": ".py",
   "mimetype": "text/x-python",
   "name": "python",
   "nbconvert_exporter": "python",
   "pygments_lexer": "ipython3",
   "version": "3.10.17"
  }
 },
 "nbformat": 4,
 "nbformat_minor": 2
}
